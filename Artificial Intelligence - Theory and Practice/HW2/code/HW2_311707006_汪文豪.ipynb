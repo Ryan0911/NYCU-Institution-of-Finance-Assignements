{
  "nbformat": 4,
  "nbformat_minor": 0,
  "metadata": {
    "colab": {
      "provenance": []
    },
    "kernelspec": {
      "name": "python3",
      "display_name": "Python 3"
    },
    "language_info": {
      "name": "python"
    }
  },
  "cells": [
    {
      "cell_type": "code",
      "execution_count": null,
      "metadata": {
        "id": "QNTBJPw0OFnR"
      },
      "outputs": [],
      "source": [
        "import math\n",
        "from scipy.stats import norm\n",
        "# S = 今日現貨價\n",
        "# K = 履約價\n",
        "# T = 今日至到期日剩幾天\n",
        "# r = 無風險利率\n",
        "# vol = 波動率\n",
        "# 有點類似r是期望值 vol是標準差\n",
        "def blscall(S, K, T, r, vol):\n",
        "  d1 = (math.log(S/K) + (r+vol*vol/2) * T) / (vol*math.sqrt(T))\n",
        "  d2 = d1-vol*math.sqrt(T)\n",
        "  c = S*norm.cdf(d1) - K*math.exp(-r*T)*norm.cdf(d2)\n",
        "  return c"
      ]
    },
    {
      "cell_type": "code",
      "source": [
        "def BisectionBLS(S, K, T, r, call):\n",
        "  left = 1e-8\n",
        "  right = 1\n",
        "  threshold = 1e-10\n",
        "  while(right - left >= threshold):\n",
        "    middle = (left+right) / 2\n",
        "    if((blscall(S, K, T, r, left) - call) * (blscall(S,K,T,r,middle)-call) < 0):\n",
        "      right = middle\n",
        "    else:\n",
        "      left = middle\n",
        "  return (left+right)/2"
      ],
      "metadata": {
        "id": "9MTZqcoNORi0"
      },
      "execution_count": 8,
      "outputs": []
    },
    {
      "cell_type": "code",
      "source": [
        "S = 13552.46\n",
        "K = []\n",
        "for i in range(13000,15100,100):\n",
        "  K.append(i)\n",
        "print(K)\n",
        "T = 22/365\n",
        "r = 0.0141 #三年期定期儲蓄存款利率\n",
        "call = [675, 610, 525, 448, 395, 345, 289, 238, 194, 153, 120, 92, 69, 52, 39.5, 28, 20.5, 16, 12, 9.8, 8.5]"
      ],
      "metadata": {
        "id": "qQhod2Y4OTx0",
        "colab": {
          "base_uri": "https://localhost:8080/"
        },
        "outputId": "949dfe26-1adf-438a-960a-f2fe00b82418"
      },
      "execution_count": 9,
      "outputs": [
        {
          "output_type": "stream",
          "name": "stdout",
          "text": [
            "[13000, 13100, 13200, 13300, 13400, 13500, 13600, 13700, 13800, 13900, 14000, 14100, 14200, 14300, 14400, 14500, 14600, 14700, 14800, 14900, 15000]\n"
          ]
        }
      ]
    },
    {
      "cell_type": "code",
      "source": [
        "vol = []\n",
        "for i in range(0,21):\n",
        "  vol.append(BisectionBLS(S, K[i], T, r, call[i]))\n",
        "print(vol)"
      ],
      "metadata": {
        "colab": {
          "base_uri": "https://localhost:8080/"
        },
        "id": "BftOu0J7qjVn",
        "outputId": "4109448c-16bd-4c89-e8e0-8fcd91c8cd99"
      },
      "execution_count": 10,
      "outputs": [
        {
          "output_type": "stream",
          "name": "stdout",
          "text": [
            "[0.24367986680211096, 0.2509330540306821, 0.2366134897834159, 0.22653071468119818, 0.2320625455718634, 0.23563515649973893, 0.23075037761917805, 0.22572494650489205, 0.22195680545216923, 0.21623244061776453, 0.21261658407581518, 0.20887607227859883, 0.2052902727754608, 0.20372289019283885, 0.20370768710865983, 0.20075552548567976, 0.2005022638391626, 0.20349423065424493, 0.20493092819185849, 0.2096843418126924, 0.21641867334944248]\n"
          ]
        }
      ]
    },
    {
      "cell_type": "code",
      "source": [
        "import matplotlib.pyplot as plt\n",
        "#x軸為K, y軸為vol\n",
        "plt.plot(K, vol)"
      ],
      "metadata": {
        "colab": {
          "base_uri": "https://localhost:8080/",
          "height": 283
        },
        "id": "Izwt5yOkrKYB",
        "outputId": "6d816ddf-7d6a-4e91-d8f7-3ab93756db14"
      },
      "execution_count": 11,
      "outputs": [
        {
          "output_type": "execute_result",
          "data": {
            "text/plain": [
              "[<matplotlib.lines.Line2D at 0x7fe4cd723590>]"
            ]
          },
          "metadata": {},
          "execution_count": 11
        },
        {
          "output_type": "display_data",
          "data": {
            "text/plain": [
              "<Figure size 432x288 with 1 Axes>"
            ],
            "image/png": "[encoded data removed]"
          },
          "metadata": {
            "needs_background": "light"
          }
        }
      ]
    },
    {
      "cell_type": "code",
      "source": [],
      "metadata": {
        "id": "7DxvdUmHvVhD"
      },
      "execution_count": null,
      "outputs": []
    }
  ]
}